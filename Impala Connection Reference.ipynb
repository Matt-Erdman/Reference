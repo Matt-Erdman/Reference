{
 "cells": [
  {
   "cell_type": "code",
   "execution_count": null,
   "metadata": {},
   "outputs": [],
   "source": [
    "# Pull data\n",
    "\n",
    "from impala.dbapi import connect\n",
    "\n",
    "conn = connect(host='myimpalaserver.com', port=10000, use_ssl=True, database='my_db', user='my_userid',password='my_password', kerberos_service_name='impala', auth_mechanism = 'LDAP')\n",
    "cur = conn.cursor()\n",
    "cur.execute('select * from tablename;')\n",
    "result=cur.fetchall()\n",
    "print(result)\n"
   ]
  },
  {
   "cell_type": "code",
   "execution_count": null,
   "metadata": {},
   "outputs": [],
   "source": [
    "# Pull data into dataframe\n",
    "\n",
    "import pandas as pd\n",
    "from impala.dbapi import connect\n",
    "\n",
    "conn = connect(host='myimpalaserver.com', port=10000, use_ssl=True, database='my_db', user='my_userid',password='my_password', kerberos_service_name='impala', auth_mechanism = 'LDAP')\n",
    "df = pd.read_sql('select * from tablename;', conn)\n",
    "print(df)"
   ]
  },
  {
   "cell_type": "code",
   "execution_count": null,
   "metadata": {},
   "outputs": [],
   "source": [
    "#set hidden password\n",
    "\n",
    "import keyring\n",
    "\n",
    "keyring.set_password('passwordtype', 'userid', 'password')"
   ]
  },
  {
   "cell_type": "code",
   "execution_count": null,
   "metadata": {},
   "outputs": [],
   "source": [
    "# Pull data into dataframe using hidden password\n",
    "\n",
    "import pandas as pd\n",
    "from impala.dbapi import connect\n",
    "import keyring\n",
    "\n",
    "conn = connect(host='myimpalaserver.com', port=10000, use_ssl=True, database='my_db', user='my_userid',password=keyring.get_password('AD', 'my_userid'), kerberos_service_name='impala', auth_mechanism = 'LDAP')\n",
    "df = pd.read_sql('select * from tablename;', conn)\n",
    "print(df)"
   ]
  }
 ],
 "metadata": {
  "kernelspec": {
   "display_name": "Python 3",
   "language": "python",
   "name": "python3"
  },
  "language_info": {
   "codemirror_mode": {
    "name": "ipython",
    "version": 3
   },
   "file_extension": ".py",
   "mimetype": "text/x-python",
   "name": "python",
   "nbconvert_exporter": "python",
   "pygments_lexer": "ipython3",
   "version": "3.7.4"
  }
 },
 "nbformat": 4,
 "nbformat_minor": 4
}
